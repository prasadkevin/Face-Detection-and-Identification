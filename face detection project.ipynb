{
 "cells": [
  {
   "cell_type": "code",
   "execution_count": 1,
   "metadata": {},
   "outputs": [],
   "source": [
    "import cv2\n",
    "from face_recognition import compare_faces,face_encodings,face_distance"
   ]
  },
  {
   "cell_type": "code",
   "execution_count": 2,
   "metadata": {},
   "outputs": [],
   "source": [
    "detect=cv2.CascadeClassifier('/home/prasad/Desktop/(IIT HYD)data/haarcascades_GPU for face recog/haarcascade_frontalface_default.xml')"
   ]
  },
  {
   "cell_type": "code",
   "execution_count": 3,
   "metadata": {},
   "outputs": [],
   "source": [
    "cap = cv2.VideoCapture(0)\n",
    "image=cv2.imread('/home/prasad/Pictures/prasad.jpg')\n",
    "mfe=face_encodings(image)[0]\n"
   ]
  },
  {
   "cell_type": "code",
   "execution_count": 4,
   "metadata": {},
   "outputs": [],
   "source": [
    "while True:\n",
    "    ret,img=cap.read()\n",
    "    gray=cv2.cvtColor(img,cv2.COLOR_BGR2RGB)\n",
    "    face=detect.detectMultiScale(img,1.5,5)\n",
    "    if len(face)>0:\n",
    "        for (x,y,w,h) in face:\n",
    "            crop=gray[y:y+h,x:x+w]\n",
    "            if len(face_encodings(crop))>0:\n",
    "                dfe=face_encodings(crop)[0]\n",
    "                cv2.rectangle(gray,(x,y),(x+w,y+h),(0,255,0),2)\n",
    "                result=compare_faces([mfe],dfe)\n",
    "                if result[0]==True:\n",
    "                    #print(face_distance([mfe],dfe))\n",
    "                    cv2.putText(gray,\"kevin\",(x,y),cv2.FONT_HERSHEY_SIMPLEX,1,(0,0,255),2,cv2.LINE_AA)\n",
    "                    break\n",
    "                \n",
    "    cv2.imshow('Face Recognize',gray)\n",
    "    if cv2.waitKey(1) & 0xFF == ord('q'):\n",
    "            break\n",
    "\n",
    "cap.release()\n",
    "cv2.destroyAllWindows()"
   ]
  },
  {
   "cell_type": "code",
   "execution_count": null,
   "metadata": {},
   "outputs": [],
   "source": []
  }
 ],
 "metadata": {
  "kernelspec": {
   "display_name": "Python 3",
   "language": "python",
   "name": "python3"
  },
  "language_info": {
   "codemirror_mode": {
    "name": "ipython",
    "version": 3
   },
   "file_extension": ".py",
   "mimetype": "text/x-python",
   "name": "python",
   "nbconvert_exporter": "python",
   "pygments_lexer": "ipython3",
   "version": "3.7.3"
  }
 },
 "nbformat": 4,
 "nbformat_minor": 2
}
